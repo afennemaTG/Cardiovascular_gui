{
 "cells": [
  {
   "cell_type": "code",
   "execution_count": 9,
   "id": "103702b3",
   "metadata": {},
   "outputs": [
    {
     "name": "stdout",
     "output_type": "stream",
     "text": [
      "file_loaded: True\n",
      "          h: <cdata 'struct ADI_FileHandle__ * *' owning 8 bytes>\n",
      "  n_records: 7\n",
      " n_channels: 2\n",
      "    records: Type::list, Len: 7\n",
      "   channels: Type::list, Len: 2\n",
      "\n"
     ]
    }
   ],
   "source": [
    "import pandas as pd\n",
    "import numpy as np\n",
    "import matplotlib.pyplot as plt\n",
    "from scipy.io import loadmat\n",
    "%matplotlib qt\n",
    "import adi\n",
    "import os\n",
    "\n",
    "\n",
    "\n",
    "# Read adicht files\n",
    "root = r\"L:\\Onderzoek\\Onderzoek_Heart_at_Risk\\23U-0681_MOWGLI\\E_ResearchData\\2_ResearchData\\Adicht\"\n",
    "file = r\"Patient 1\\patient1_3_d4_WT.adicht\"\n",
    "df = adi.read_file(os.path.join(root, file))\n",
    "print(df)"
   ]
  },
  {
   "cell_type": "code",
   "execution_count": 19,
   "id": "59aae76c",
   "metadata": {},
   "outputs": [
    {
     "data": {
      "text/plain": [
       "[<matplotlib.lines.Line2D at 0x21da0dc0fe0>]"
      ]
     },
     "execution_count": 19,
     "metadata": {},
     "output_type": "execute_result"
    }
   ],
   "source": [
    "x = 3\n",
    "channel_id = 1\n",
    "record_id = 7\n",
    "data = df.channels[channel_id-1].get_data(record_id)\n",
    "\n",
    "plt.plot(data)"
   ]
  }
 ],
 "metadata": {
  "kernelspec": {
   "display_name": "comp_model",
   "language": "python",
   "name": "python3"
  },
  "language_info": {
   "codemirror_mode": {
    "name": "ipython",
    "version": 3
   },
   "file_extension": ".py",
   "mimetype": "text/x-python",
   "name": "python",
   "nbconvert_exporter": "python",
   "pygments_lexer": "ipython3",
   "version": "3.12.9"
  }
 },
 "nbformat": 4,
 "nbformat_minor": 5
}
